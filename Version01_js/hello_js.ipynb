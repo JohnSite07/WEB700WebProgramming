{
 "cells": [
  {
   "cell_type": "code",
   "execution_count": null,
   "id": "a138209e",
   "metadata": {
    "vscode": {
     "languageId": "javascript"
    }
   },
   "outputs": [],
   "source": [
    "console.log(\"Hello World\")"
   ]
  }
 ],
 "metadata": {
  "language_info": {
   "name": "python"
  }
 },
 "nbformat": 4,
 "nbformat_minor": 5
}
